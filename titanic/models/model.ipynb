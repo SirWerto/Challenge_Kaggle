{
 "cells": [
  {
   "cell_type": "code",
   "execution_count": 601,
   "metadata": {},
   "outputs": [],
   "source": [
    "import matplotlib.pyplot as plt\n",
    "\n",
    "import numpy as np\n",
    "import pandas as pd\n",
    "\n",
    "from sklearn.pipeline import Pipeline\n",
    "from sklearn.compose import ColumnTransformer\n",
    "from sklearn.preprocessing import OrdinalEncoder, OneHotEncoder, KBinsDiscretizer, Binarizer\n",
    "from sklearn.preprocessing import FunctionTransformer as FT\n",
    "from sklearn.impute import SimpleImputer, KNNImputer\n",
    "\n",
    "from sklearn.ensemble import RandomForestClassifier, GradientBoostingClassifier\n",
    "from sklearn.tree import DecisionTreeClassifier,plot_tree\n",
    "\n",
    "from sklearn.model_selection import train_test_split"
   ]
  },
  {
   "cell_type": "markdown",
   "metadata": {},
   "source": [
    "### Import & Split"
   ]
  },
  {
   "cell_type": "code",
   "execution_count": 602,
   "metadata": {},
   "outputs": [],
   "source": [
    "X = pd.read_csv(\"/home/jorge/Proyectos/datas/titanic/tables/data_cleaned/train.csv\")\n",
    "Y = X[\"Survived\"]\n",
    "del X[\"Survived\"]\n",
    "\n",
    "X_train, X_test, y_train, y_test = train_test_split(X.values, Y.values)"
   ]
  },
  {
   "cell_type": "code",
   "execution_count": 603,
   "metadata": {},
   "outputs": [
    {
     "data": {
      "text/plain": [
       "668"
      ]
     },
     "execution_count": 603,
     "metadata": {},
     "output_type": "execute_result"
    }
   ],
   "source": [
    "len(y_train)"
   ]
  },
  {
   "cell_type": "markdown",
   "metadata": {},
   "source": [
    "### Model"
   ]
  },
  {
   "cell_type": "code",
   "execution_count": 604,
   "metadata": {},
   "outputs": [],
   "source": [
    "##### Fill nans age\n",
    "def fillage(X):\n",
    "    mean = np.nanmean(X)\n",
    "    return np.nan_to_num(X, nan=mean)\n",
    "\n",
    "### Cut Sibps\n",
    "def cutsip(X):\n",
    "    hasmap = {\n",
    "        0: 0,\n",
    "        1: 1, \n",
    "        2: 2,\n",
    "        3: 2, \n",
    "        4: 2,\n",
    "        5: 2, \n",
    "        8: 2 \n",
    "    }\n",
    "    DX = pd.DataFrame(X, columns=[\"X\"])\n",
    "    return DX.apply(lambda x: hasmap[x]).values\n",
    "# Cabin\n",
    "## Letter\n",
    "def get_letters1(x):\n",
    "    if isinstance(x, float) == True:\n",
    "        return (\"None\")\n",
    "    sx = x.split()\n",
    "    return sx[0][0]\n",
    "def get_letters2(x):\n",
    "    if isinstance(x, float) == True:\n",
    "        return 0\n",
    "    else: \n",
    "        return 1\n",
    "\n",
    "def gletter(X):\n",
    "    return np.vectorize(get_letters2)(X)\n",
    "\n",
    "## Number\n",
    "def get_number(x):\n",
    "    if isinstance(x, float) == True:\n",
    "        return 500\n",
    "    sx = x.split()\n",
    "\n",
    "    if len(sx[0][1:]) == 0:\n",
    "        Number = 500\n",
    "    else:\n",
    "        Number = int(sx[0][1:])\n",
    "    return Number\n",
    "\n",
    "def gnumber(X):\n",
    "    return np.vectorize(get_number)(X)\n",
    "\n",
    "## Many\n",
    "def get_many(x):\n",
    "    if isinstance(x, float) == True:\n",
    "        return 0\n",
    "    sx = x.split()\n",
    "    if len(sx)>1:\n",
    "        return 1\n",
    "    else:\n",
    "        return 0\n",
    "\n",
    "def gmany(X):\n",
    "    return np.vectorize(get_many)(X)"
   ]
  },
  {
   "cell_type": "code",
   "execution_count": 605,
   "metadata": {},
   "outputs": [
    {
     "data": {
      "text/plain": [
       "['PassengerId',\n",
       " 'Pclass',\n",
       " 'Name',\n",
       " 'Sex',\n",
       " 'Age',\n",
       " 'SibSp',\n",
       " 'Parch',\n",
       " 'Ticket',\n",
       " 'Fare',\n",
       " 'Cabin',\n",
       " 'Embarked']"
      ]
     },
     "execution_count": 605,
     "metadata": {},
     "output_type": "execute_result"
    }
   ],
   "source": [
    "X.columns.to_list()"
   ]
  },
  {
   "cell_type": "code",
   "execution_count": 606,
   "metadata": {},
   "outputs": [],
   "source": [
    "column_transforms_initial_CT = [\n",
    "    (\"sex2binary\", OrdinalEncoder(dtype=\"int\"), [3]),\n",
    "    (\"age_inpute\", SimpleImputer(strategy=\"mean\"), [4]),\n",
    "    (\"pclass\", \"passthrough\", [1]),\n",
    "    (\"parch\", \"passthrough\", [6]),\n",
    "    (\"letter\", FT(gletter), [9]),\n",
    "    (\"number\", FT(gnumber), [9]),\n",
    "    (\"many\", FT(gmany), [9]),\n",
    "    (\"fare\", SimpleImputer(strategy=\"most_frequent\"), [8]),\n",
    "    (\"sibsp\", \"passthrough\", [5]),\n",
    "    (\"embarked1\", SimpleImputer(strategy=\"constant\", fill_value=\"None\"), [10]),\n",
    "    (\"embarked2\", SimpleImputer(strategy=\"most_frequent\"), [10])\n",
    "    #(\"sibsp\", \"passthrough\", [\"SibSp\"]),\n",
    "    #(\"Parch\", Binarizer(), [\"Parch\"]),\n",
    "    #(\"sibsp\", KBinsDiscretizer(n_bins=3, encode=\"ordinal\", strategy=\"quantile\"), [\"SibSp\"]),\n",
    "    #(\"age_inpute\", SimpleImputer(strategy=\"mean\"), [\"Age\"])\n",
    "    \n",
    "]\n",
    "\n",
    "column_transforms_final_CT = [\n",
    "    (\"sex\", \"passthrough\", [0]),\n",
    "    (\"age\", \"passthrough\", [1]),\n",
    "    (\"pclass\", OneHotEncoder(dtype=\"int\"), [2]),\n",
    "    (\"parch\", \"passthrough\", [3]),\n",
    "    #(\"letter\", OneHotEncoder(dtype=\"int\"), [4]),\n",
    "    (\"letter\", \"passthrough\", [4]),\n",
    "    (\"number\", \"passthrough\", [5]),\n",
    "    (\"many\", \"passthrough\", [6]),\n",
    "    (\"embarked1\", OneHotEncoder(dtype=\"int\"), [9])\n",
    "    #(\"embarked2\", OneHotEncoder(dtype=\"int\"), [9]),\n",
    "    #(\"fare\", \"passthrough\", [7])\n",
    "    #(\"sibsp\", OneHotEncoder(dtype=\"int\"), [8])\n",
    "]\n",
    "\n",
    "inital_CT = ColumnTransformer(column_transforms_initial_CT, remainder=\"drop\", verbose=True)\n",
    "final_CT = ColumnTransformer(column_transforms_final_CT, remainder=\"drop\", verbose=True)\n",
    "\n",
    "### Classifiers\n",
    "\n",
    "GB = [\n",
    "    (\"Initial transform\", inital_CT), #type of columns and a littel clear\n",
    "    (\"Final transform\", final_CT), #One hot encoder all labels\n",
    "    (\"Gradient Boosting\", GradientBoostingClassifier(n_estimators=250, max_depth=3, learning_rate=0.01))\n",
    "]\n",
    "\n",
    "RF = [\n",
    "    (\"Initial transform\", inital_CT), #type of columns and a littel clear\n",
    "    (\"Final transform\", final_CT), #One hot encoder all labels\n",
    "    (\"Random Forest\", RandomForestClassifier(n_estimators=150, max_depth=4, criterion=\"entropy\"))\n",
    "]\n",
    "\n",
    "DT = [\n",
    "    (\"Initial transform\", inital_CT), #type of columns and a littel clear\n",
    "    (\"Final transform\", final_CT), #One hot encoder all labels\n",
    "    (\"Decision Tree\", DecisionTreeClassifier(criterion=\"gini\", max_depth=4, splitter=\"random\"))\n",
    "]\n",
    "\n",
    "model = Pipeline(RF, verbose=True)"
   ]
  },
  {
   "cell_type": "markdown",
   "metadata": {},
   "source": [
    "### Train & Test"
   ]
  },
  {
   "cell_type": "code",
   "execution_count": 607,
   "metadata": {},
   "outputs": [
    {
     "name": "stdout",
     "output_type": "stream",
     "text": [
      "[ColumnTransformer] ... (1 of 11) Processing sex2binary, total=   0.0s\n",
      "[ColumnTransformer] ... (2 of 11) Processing age_inpute, total=   0.0s\n",
      "[ColumnTransformer] ....... (3 of 11) Processing pclass, total=   0.0s\n",
      "[ColumnTransformer] ........ (4 of 11) Processing parch, total=   0.0s\n",
      "[ColumnTransformer] ....... (5 of 11) Processing letter, total=   0.0s\n",
      "[ColumnTransformer] ....... (6 of 11) Processing number, total=   0.0s\n",
      "[ColumnTransformer] ......... (7 of 11) Processing many, total=   0.0s\n",
      "[ColumnTransformer] ......... (8 of 11) Processing fare, total=   0.0s\n",
      "[ColumnTransformer] ........ (9 of 11) Processing sibsp, total=   0.0s\n",
      "[ColumnTransformer] ... (10 of 11) Processing embarked1, total=   0.0s\n",
      "[ColumnTransformer] ... (11 of 11) Processing embarked2, total=   0.0s\n",
      "[Pipeline] . (step 1 of 3) Processing Initial transform, total=   0.0s\n",
      "[ColumnTransformer] ........... (1 of 8) Processing sex, total=   0.0s\n",
      "[ColumnTransformer] ........... (2 of 8) Processing age, total=   0.0s\n",
      "[ColumnTransformer] ........ (3 of 8) Processing pclass, total=   0.0s\n",
      "[ColumnTransformer] ......... (4 of 8) Processing parch, total=   0.0s\n",
      "[ColumnTransformer] ........ (5 of 8) Processing letter, total=   0.0s\n",
      "[ColumnTransformer] ........ (6 of 8) Processing number, total=   0.0s\n",
      "[ColumnTransformer] .......... (7 of 8) Processing many, total=   0.0s\n",
      "[ColumnTransformer] ..... (8 of 8) Processing embarked1, total=   0.0s\n",
      "[Pipeline] ... (step 2 of 3) Processing Final transform, total=   0.0s\n",
      "[Pipeline] ..... (step 3 of 3) Processing Random Forest, total=   0.1s\n"
     ]
    }
   ],
   "source": [
    "f = model.fit(X_train, y_train)"
   ]
  },
  {
   "cell_type": "code",
   "execution_count": 608,
   "metadata": {},
   "outputs": [
    {
     "data": {
      "text/plain": [
       "0.8340807174887892"
      ]
     },
     "execution_count": 608,
     "metadata": {},
     "output_type": "execute_result"
    }
   ],
   "source": [
    "model.score(X_test, y_test)"
   ]
  },
  {
   "cell_type": "markdown",
   "metadata": {},
   "source": [
    "### DataSet"
   ]
  },
  {
   "cell_type": "code",
   "execution_count": 609,
   "metadata": {},
   "outputs": [
    {
     "name": "stdout",
     "output_type": "stream",
     "text": [
      "[ColumnTransformer] ... (1 of 11) Processing sex2binary, total=   0.0s\n",
      "[ColumnTransformer] ... (2 of 11) Processing age_inpute, total=   0.0s\n",
      "[ColumnTransformer] ....... (3 of 11) Processing pclass, total=   0.0s\n",
      "[ColumnTransformer] ........ (4 of 11) Processing parch, total=   0.0s\n",
      "[ColumnTransformer] ....... (5 of 11) Processing letter, total=   0.0s\n",
      "[ColumnTransformer] ....... (6 of 11) Processing number, total=   0.0s\n",
      "[ColumnTransformer] ......... (7 of 11) Processing many, total=   0.0s\n",
      "[ColumnTransformer] ......... (8 of 11) Processing fare, total=   0.0s\n",
      "[ColumnTransformer] ........ (9 of 11) Processing sibsp, total=   0.0s\n",
      "[ColumnTransformer] ... (10 of 11) Processing embarked1, total=   0.0s\n",
      "[ColumnTransformer] ... (11 of 11) Processing embarked2, total=   0.0s\n",
      "[ColumnTransformer] ........... (1 of 8) Processing sex, total=   0.0s\n",
      "[ColumnTransformer] ........... (2 of 8) Processing age, total=   0.0s\n",
      "[ColumnTransformer] ........ (3 of 8) Processing pclass, total=   0.0s\n",
      "[ColumnTransformer] ......... (4 of 8) Processing parch, total=   0.0s\n",
      "[ColumnTransformer] ........ (5 of 8) Processing letter, total=   0.0s\n",
      "[ColumnTransformer] ........ (6 of 8) Processing number, total=   0.0s\n",
      "[ColumnTransformer] .......... (7 of 8) Processing many, total=   0.0s\n",
      "[ColumnTransformer] ..... (8 of 8) Processing embarked1, total=   0.0s\n"
     ]
    }
   ],
   "source": [
    "muestra = model[:-1].fit_transform(X_train)"
   ]
  },
  {
   "cell_type": "code",
   "execution_count": 616,
   "metadata": {},
   "outputs": [
    {
     "data": {
      "text/plain": [
       "sex      -0.553478\n",
       "age      -0.064366\n",
       "pc1       0.270423\n",
       "pc2       0.076237\n",
       "pc3      -0.295241\n",
       "parch     0.073606\n",
       "letter    0.291900\n",
       "number   -0.292292\n",
       "many      0.062008\n",
       "emb1      0.179490\n",
       "emb2      0.071314\n",
       "emb3      0.018689\n",
       "emb4     -0.176500\n",
       "Y         1.000000\n",
       "Name: Y, dtype: float64"
      ]
     },
     "execution_count": 616,
     "metadata": {},
     "output_type": "execute_result"
    }
   ],
   "source": [
    "M = pd.DataFrame(muestra, columns=[\"sex\", \"age\", \"pc1\", \"pc2\", \"pc3\", \"parch\", \"letter\", \"number\", \"many\", \"emb1\", \"emb2\",\"emb3\", \"emb4\"], dtype=\"float\")\n",
    "M[\"Y\"] = y_train\n",
    "M.corr()[\"Y\"]"
   ]
  },
  {
   "cell_type": "markdown",
   "metadata": {},
   "source": [
    "### Eval"
   ]
  },
  {
   "cell_type": "code",
   "execution_count": 611,
   "metadata": {},
   "outputs": [
    {
     "data": {
      "text/plain": [
       "array([0.43974895, 0.11095949, 0.05110136, 0.02396972, 0.09513549,\n",
       "       0.03962441, 0.05639715, 0.10206612, 0.0081217 , 0.02175066,\n",
       "       0.00178355, 0.01501776, 0.03432366])"
      ]
     },
     "execution_count": 611,
     "metadata": {},
     "output_type": "execute_result"
    }
   ],
   "source": [
    "model[-1].feature_importances_"
   ]
  },
  {
   "cell_type": "markdown",
   "metadata": {},
   "source": [
    "### Predict"
   ]
  },
  {
   "cell_type": "code",
   "execution_count": 612,
   "metadata": {},
   "outputs": [
    {
     "ename": "NameError",
     "evalue": "name 'stop' is not defined",
     "output_type": "error",
     "traceback": [
      "\u001b[0;31m---------------------------------------------------------------------------\u001b[0m",
      "\u001b[0;31mNameError\u001b[0m                                 Traceback (most recent call last)",
      "\u001b[0;32m<ipython-input-612-4f76a9dad686>\u001b[0m in \u001b[0;36m<module>\u001b[0;34m\u001b[0m\n\u001b[0;32m----> 1\u001b[0;31m \u001b[0mstop\u001b[0m\u001b[0;34m\u001b[0m\u001b[0;34m\u001b[0m\u001b[0m\n\u001b[0m",
      "\u001b[0;31mNameError\u001b[0m: name 'stop' is not defined"
     ]
    }
   ],
   "source": [
    "stop"
   ]
  },
  {
   "cell_type": "code",
   "execution_count": 617,
   "metadata": {},
   "outputs": [
    {
     "data": {
      "text/html": [
       "<div>\n",
       "<style scoped>\n",
       "    .dataframe tbody tr th:only-of-type {\n",
       "        vertical-align: middle;\n",
       "    }\n",
       "\n",
       "    .dataframe tbody tr th {\n",
       "        vertical-align: top;\n",
       "    }\n",
       "\n",
       "    .dataframe thead th {\n",
       "        text-align: right;\n",
       "    }\n",
       "</style>\n",
       "<table border=\"1\" class=\"dataframe\">\n",
       "  <thead>\n",
       "    <tr style=\"text-align: right;\">\n",
       "      <th></th>\n",
       "      <th>PassengerId</th>\n",
       "      <th>Pclass</th>\n",
       "      <th>Name</th>\n",
       "      <th>Sex</th>\n",
       "      <th>Age</th>\n",
       "      <th>SibSp</th>\n",
       "      <th>Parch</th>\n",
       "      <th>Ticket</th>\n",
       "      <th>Fare</th>\n",
       "      <th>Cabin</th>\n",
       "      <th>Embarked</th>\n",
       "    </tr>\n",
       "  </thead>\n",
       "  <tbody>\n",
       "    <tr>\n",
       "      <th>0</th>\n",
       "      <td>892</td>\n",
       "      <td>3</td>\n",
       "      <td>Kelly, Mr. James</td>\n",
       "      <td>male</td>\n",
       "      <td>34.5</td>\n",
       "      <td>0</td>\n",
       "      <td>0</td>\n",
       "      <td>330911</td>\n",
       "      <td>7.8292</td>\n",
       "      <td>NaN</td>\n",
       "      <td>Q</td>\n",
       "    </tr>\n",
       "    <tr>\n",
       "      <th>1</th>\n",
       "      <td>893</td>\n",
       "      <td>3</td>\n",
       "      <td>Wilkes, Mrs. James (Ellen Needs)</td>\n",
       "      <td>female</td>\n",
       "      <td>47.0</td>\n",
       "      <td>1</td>\n",
       "      <td>0</td>\n",
       "      <td>363272</td>\n",
       "      <td>7.0000</td>\n",
       "      <td>NaN</td>\n",
       "      <td>S</td>\n",
       "    </tr>\n",
       "    <tr>\n",
       "      <th>2</th>\n",
       "      <td>894</td>\n",
       "      <td>2</td>\n",
       "      <td>Myles, Mr. Thomas Francis</td>\n",
       "      <td>male</td>\n",
       "      <td>62.0</td>\n",
       "      <td>0</td>\n",
       "      <td>0</td>\n",
       "      <td>240276</td>\n",
       "      <td>9.6875</td>\n",
       "      <td>NaN</td>\n",
       "      <td>Q</td>\n",
       "    </tr>\n",
       "    <tr>\n",
       "      <th>3</th>\n",
       "      <td>895</td>\n",
       "      <td>3</td>\n",
       "      <td>Wirz, Mr. Albert</td>\n",
       "      <td>male</td>\n",
       "      <td>27.0</td>\n",
       "      <td>0</td>\n",
       "      <td>0</td>\n",
       "      <td>315154</td>\n",
       "      <td>8.6625</td>\n",
       "      <td>NaN</td>\n",
       "      <td>S</td>\n",
       "    </tr>\n",
       "    <tr>\n",
       "      <th>4</th>\n",
       "      <td>896</td>\n",
       "      <td>3</td>\n",
       "      <td>Hirvonen, Mrs. Alexander (Helga E Lindqvist)</td>\n",
       "      <td>female</td>\n",
       "      <td>22.0</td>\n",
       "      <td>1</td>\n",
       "      <td>1</td>\n",
       "      <td>3101298</td>\n",
       "      <td>12.2875</td>\n",
       "      <td>NaN</td>\n",
       "      <td>S</td>\n",
       "    </tr>\n",
       "    <tr>\n",
       "      <th>...</th>\n",
       "      <td>...</td>\n",
       "      <td>...</td>\n",
       "      <td>...</td>\n",
       "      <td>...</td>\n",
       "      <td>...</td>\n",
       "      <td>...</td>\n",
       "      <td>...</td>\n",
       "      <td>...</td>\n",
       "      <td>...</td>\n",
       "      <td>...</td>\n",
       "      <td>...</td>\n",
       "    </tr>\n",
       "    <tr>\n",
       "      <th>413</th>\n",
       "      <td>1305</td>\n",
       "      <td>3</td>\n",
       "      <td>Spector, Mr. Woolf</td>\n",
       "      <td>male</td>\n",
       "      <td>NaN</td>\n",
       "      <td>0</td>\n",
       "      <td>0</td>\n",
       "      <td>A.5. 3236</td>\n",
       "      <td>8.0500</td>\n",
       "      <td>NaN</td>\n",
       "      <td>S</td>\n",
       "    </tr>\n",
       "    <tr>\n",
       "      <th>414</th>\n",
       "      <td>1306</td>\n",
       "      <td>1</td>\n",
       "      <td>Oliva y Ocana, Dona. Fermina</td>\n",
       "      <td>female</td>\n",
       "      <td>39.0</td>\n",
       "      <td>0</td>\n",
       "      <td>0</td>\n",
       "      <td>PC 17758</td>\n",
       "      <td>108.9000</td>\n",
       "      <td>C105</td>\n",
       "      <td>C</td>\n",
       "    </tr>\n",
       "    <tr>\n",
       "      <th>415</th>\n",
       "      <td>1307</td>\n",
       "      <td>3</td>\n",
       "      <td>Saether, Mr. Simon Sivertsen</td>\n",
       "      <td>male</td>\n",
       "      <td>38.5</td>\n",
       "      <td>0</td>\n",
       "      <td>0</td>\n",
       "      <td>SOTON/O.Q. 3101262</td>\n",
       "      <td>7.2500</td>\n",
       "      <td>NaN</td>\n",
       "      <td>S</td>\n",
       "    </tr>\n",
       "    <tr>\n",
       "      <th>416</th>\n",
       "      <td>1308</td>\n",
       "      <td>3</td>\n",
       "      <td>Ware, Mr. Frederick</td>\n",
       "      <td>male</td>\n",
       "      <td>NaN</td>\n",
       "      <td>0</td>\n",
       "      <td>0</td>\n",
       "      <td>359309</td>\n",
       "      <td>8.0500</td>\n",
       "      <td>NaN</td>\n",
       "      <td>S</td>\n",
       "    </tr>\n",
       "    <tr>\n",
       "      <th>417</th>\n",
       "      <td>1309</td>\n",
       "      <td>3</td>\n",
       "      <td>Peter, Master. Michael J</td>\n",
       "      <td>male</td>\n",
       "      <td>NaN</td>\n",
       "      <td>1</td>\n",
       "      <td>1</td>\n",
       "      <td>2668</td>\n",
       "      <td>22.3583</td>\n",
       "      <td>NaN</td>\n",
       "      <td>C</td>\n",
       "    </tr>\n",
       "  </tbody>\n",
       "</table>\n",
       "<p>418 rows × 11 columns</p>\n",
       "</div>"
      ],
      "text/plain": [
       "     PassengerId  Pclass                                          Name  \\\n",
       "0            892       3                              Kelly, Mr. James   \n",
       "1            893       3              Wilkes, Mrs. James (Ellen Needs)   \n",
       "2            894       2                     Myles, Mr. Thomas Francis   \n",
       "3            895       3                              Wirz, Mr. Albert   \n",
       "4            896       3  Hirvonen, Mrs. Alexander (Helga E Lindqvist)   \n",
       "..           ...     ...                                           ...   \n",
       "413         1305       3                            Spector, Mr. Woolf   \n",
       "414         1306       1                  Oliva y Ocana, Dona. Fermina   \n",
       "415         1307       3                  Saether, Mr. Simon Sivertsen   \n",
       "416         1308       3                           Ware, Mr. Frederick   \n",
       "417         1309       3                      Peter, Master. Michael J   \n",
       "\n",
       "        Sex   Age  SibSp  Parch              Ticket      Fare Cabin Embarked  \n",
       "0      male  34.5      0      0              330911    7.8292   NaN        Q  \n",
       "1    female  47.0      1      0              363272    7.0000   NaN        S  \n",
       "2      male  62.0      0      0              240276    9.6875   NaN        Q  \n",
       "3      male  27.0      0      0              315154    8.6625   NaN        S  \n",
       "4    female  22.0      1      1             3101298   12.2875   NaN        S  \n",
       "..      ...   ...    ...    ...                 ...       ...   ...      ...  \n",
       "413    male   NaN      0      0           A.5. 3236    8.0500   NaN        S  \n",
       "414  female  39.0      0      0            PC 17758  108.9000  C105        C  \n",
       "415    male  38.5      0      0  SOTON/O.Q. 3101262    7.2500   NaN        S  \n",
       "416    male   NaN      0      0              359309    8.0500   NaN        S  \n",
       "417    male   NaN      1      1                2668   22.3583   NaN        C  \n",
       "\n",
       "[418 rows x 11 columns]"
      ]
     },
     "execution_count": 617,
     "metadata": {},
     "output_type": "execute_result"
    }
   ],
   "source": [
    "P = pd.read_csv(\"/home/jorge/Proyectos/datas/titanic/tables/data_cleaned/test.csv\")\n",
    "P"
   ]
  },
  {
   "cell_type": "code",
   "execution_count": 618,
   "metadata": {},
   "outputs": [],
   "source": [
    "Predicted = pd.Series(model.predict(P))\n",
    "\n",
    "Submission = pd.DataFrame({\n",
    "    \"PassengerId\": P[\"PassengerId\"],\n",
    "    \"Survived\": Predicted\n",
    "})\n",
    "\n",
    "Submission.to_csv(\"/home/jorge/Proyectos/datas/titanic/tables/submission.csv\", index=False)"
   ]
  },
  {
   "cell_type": "code",
   "execution_count": null,
   "metadata": {},
   "outputs": [],
   "source": []
  }
 ],
 "metadata": {
  "kernelspec": {
   "display_name": "Python 3",
   "language": "python",
   "name": "python3"
  },
  "language_info": {
   "codemirror_mode": {
    "name": "ipython",
    "version": 3
   },
   "file_extension": ".py",
   "mimetype": "text/x-python",
   "name": "python",
   "nbconvert_exporter": "python",
   "pygments_lexer": "ipython3",
   "version": "3.8.5"
  }
 },
 "nbformat": 4,
 "nbformat_minor": 4
}
